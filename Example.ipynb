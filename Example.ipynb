{
 "cells": [
  {
   "cell_type": "markdown",
   "metadata": {
    "toc": "true"
   },
   "source": [
    " # Table of Contents\n",
    "<div class=\"toc\" style=\"margin-top: 1em;\"><ul class=\"toc-item\" id=\"toc-level0\"></ul></div>"
   ]
  },
  {
   "cell_type": "code",
   "execution_count": 1,
   "metadata": {
    "ExecuteTime": {
     "end_time": "2017-10-03T15:58:36.872649Z",
     "start_time": "2017-10-03T15:58:36.175078Z"
    },
    "collapsed": true
   },
   "outputs": [],
   "source": [
    "from yt.extensions import halofinder\n",
    "import yt\n",
    "yt.funcs.mylog.setLevel(10)"
   ]
  },
  {
   "cell_type": "code",
   "execution_count": 2,
   "metadata": {
    "ExecuteTime": {
     "end_time": "2017-10-03T15:58:36.990970Z",
     "start_time": "2017-10-03T15:58:36.874385Z"
    }
   },
   "outputs": [
    {
     "name": "stdout",
     "output_type": "stream",
     "text": [
      "/automnt/data74/cadiou/simulations/DM_run/data\n"
     ]
    }
   ],
   "source": [
    "%cd ~/data/simulations/DM_run/data/\n",
    "%mkdir -p demonstration"
   ]
  },
  {
   "cell_type": "code",
   "execution_count": 3,
   "metadata": {
    "ExecuteTime": {
     "end_time": "2017-10-03T15:58:37.160355Z",
     "start_time": "2017-10-03T15:58:36.993251Z"
    }
   },
   "outputs": [
    {
     "name": "stdout",
     "output_type": "stream",
     "text": [
      "Analysis.ipynb            music.conf_log.txt  output_00014/  output_00029/\n",
      "Analysis.py               my_halo/            output_00015/  output_00030/\n",
      "bricks/                   output_00001/       output_00016/  output_00031/\n",
      "demonstration/            output_00002/       output_00017/  output_00032/\n",
      "frames/                   output_00003/       output_00018/  output_00033/\n",
      "Halo4468/                 output_00004/       output_00019/  output_00034/\n",
      "halo_catalogs/            output_00005/       output_00020/  output_00035/\n",
      "halofinder.o109783        output_00006/       output_00021/  output_00036/\n",
      "halo_finder.py            output_00007/       output_00022/  output_00037/\n",
      "Halos/                    output_00008/       output_00023/  output_00038/\n",
      "ics.hdf5                  output_00009/       output_00024/  plots/\n",
      "ics_ramses/               output_00010/       output_00025/  TreeMaker.o109791\n",
      "inputfiles_HaloMaker.dat  output_00011/       output_00026/  Trees/\n",
      "input_HaloMaker.dat       output_00012/       output_00027/  wnoise_0007.bin\n",
      "input_powerspec.txt       output_00013/       output_00028/  wnoise_0008.bin\n"
     ]
    }
   ],
   "source": [
    "ls"
   ]
  },
  {
   "cell_type": "code",
   "execution_count": 23,
   "metadata": {
    "ExecuteTime": {
     "end_time": "2017-10-03T16:04:29.619181Z",
     "start_time": "2017-10-03T16:04:29.616225Z"
    },
    "collapsed": true
   },
   "outputs": [],
   "source": [
    "hf = halofinder.HaloFinder(folder='.', prefix='../src/halo_finder/')"
   ]
  },
  {
   "cell_type": "markdown",
   "metadata": {},
   "source": [
    "The script autodetects all the outputs in the given folder."
   ]
  },
  {
   "cell_type": "code",
   "execution_count": 24,
   "metadata": {
    "ExecuteTime": {
     "end_time": "2017-10-03T16:04:30.739793Z",
     "start_time": "2017-10-03T16:04:30.732811Z"
    }
   },
   "outputs": [
    {
     "name": "stderr",
     "output_type": "stream",
     "text": [
      "yt : [WARNING  ] 2017-10-03 18:04:30,733 Changed folder from relative . to absolute /automnt/data74/cadiou/simulations/DM_run/data\n",
      "yt : [DEBUG    ] 2017-10-03 18:04:30,735 Detected 38 outputs\n"
     ]
    },
    {
     "data": {
      "text/plain": [
       "['/automnt/data74/cadiou/simulations/DM_run/data/output_00001/info_00001.txt',\n",
       " '/automnt/data74/cadiou/simulations/DM_run/data/output_00002/info_00002.txt',\n",
       " '/automnt/data74/cadiou/simulations/DM_run/data/output_00003/info_00003.txt',\n",
       " '/automnt/data74/cadiou/simulations/DM_run/data/output_00004/info_00004.txt',\n",
       " '/automnt/data74/cadiou/simulations/DM_run/data/output_00005/info_00005.txt',\n",
       " '/automnt/data74/cadiou/simulations/DM_run/data/output_00006/info_00006.txt',\n",
       " '/automnt/data74/cadiou/simulations/DM_run/data/output_00007/info_00007.txt',\n",
       " '/automnt/data74/cadiou/simulations/DM_run/data/output_00008/info_00008.txt',\n",
       " '/automnt/data74/cadiou/simulations/DM_run/data/output_00009/info_00009.txt',\n",
       " '/automnt/data74/cadiou/simulations/DM_run/data/output_00010/info_00010.txt',\n",
       " '/automnt/data74/cadiou/simulations/DM_run/data/output_00011/info_00011.txt',\n",
       " '/automnt/data74/cadiou/simulations/DM_run/data/output_00012/info_00012.txt',\n",
       " '/automnt/data74/cadiou/simulations/DM_run/data/output_00013/info_00013.txt',\n",
       " '/automnt/data74/cadiou/simulations/DM_run/data/output_00014/info_00014.txt',\n",
       " '/automnt/data74/cadiou/simulations/DM_run/data/output_00015/info_00015.txt',\n",
       " '/automnt/data74/cadiou/simulations/DM_run/data/output_00016/info_00016.txt',\n",
       " '/automnt/data74/cadiou/simulations/DM_run/data/output_00017/info_00017.txt',\n",
       " '/automnt/data74/cadiou/simulations/DM_run/data/output_00018/info_00018.txt',\n",
       " '/automnt/data74/cadiou/simulations/DM_run/data/output_00019/info_00019.txt',\n",
       " '/automnt/data74/cadiou/simulations/DM_run/data/output_00020/info_00020.txt',\n",
       " '/automnt/data74/cadiou/simulations/DM_run/data/output_00021/info_00021.txt',\n",
       " '/automnt/data74/cadiou/simulations/DM_run/data/output_00022/info_00022.txt',\n",
       " '/automnt/data74/cadiou/simulations/DM_run/data/output_00023/info_00023.txt',\n",
       " '/automnt/data74/cadiou/simulations/DM_run/data/output_00024/info_00024.txt',\n",
       " '/automnt/data74/cadiou/simulations/DM_run/data/output_00025/info_00025.txt',\n",
       " '/automnt/data74/cadiou/simulations/DM_run/data/output_00026/info_00026.txt',\n",
       " '/automnt/data74/cadiou/simulations/DM_run/data/output_00027/info_00027.txt',\n",
       " '/automnt/data74/cadiou/simulations/DM_run/data/output_00028/info_00028.txt',\n",
       " '/automnt/data74/cadiou/simulations/DM_run/data/output_00029/info_00029.txt',\n",
       " '/automnt/data74/cadiou/simulations/DM_run/data/output_00030/info_00030.txt',\n",
       " '/automnt/data74/cadiou/simulations/DM_run/data/output_00031/info_00031.txt',\n",
       " '/automnt/data74/cadiou/simulations/DM_run/data/output_00032/info_00032.txt',\n",
       " '/automnt/data74/cadiou/simulations/DM_run/data/output_00033/info_00033.txt',\n",
       " '/automnt/data74/cadiou/simulations/DM_run/data/output_00034/info_00034.txt',\n",
       " '/automnt/data74/cadiou/simulations/DM_run/data/output_00035/info_00035.txt',\n",
       " '/automnt/data74/cadiou/simulations/DM_run/data/output_00036/info_00036.txt',\n",
       " '/automnt/data74/cadiou/simulations/DM_run/data/output_00037/info_00037.txt',\n",
       " '/automnt/data74/cadiou/simulations/DM_run/data/output_00038/info_00038.txt']"
      ]
     },
     "execution_count": 24,
     "metadata": {},
     "output_type": "execute_result"
    }
   ],
   "source": [
    "hf.outputs"
   ]
  },
  {
   "cell_type": "markdown",
   "metadata": {},
   "source": [
    "HaloFinder reads two files. The first is `input_HaloMaker.dat` that contains its configuration and `inputfiles_HaloMaker.dat` that contains a list of all the RAMSES output to read from.\n",
    "Let's first generate the `inputfiles_HaloMaker.dat` file. It will be stored in the `prefix` folder."
   ]
  },
  {
   "cell_type": "code",
   "execution_count": 25,
   "metadata": {
    "ExecuteTime": {
     "end_time": "2017-10-03T16:04:32.494910Z",
     "start_time": "2017-10-03T16:04:32.490360Z"
    }
   },
   "outputs": [
    {
     "name": "stderr",
     "output_type": "stream",
     "text": [
      "yt : [INFO     ] 2017-10-03 18:04:32,491 Writing input files to ../src/halo_finder/inputfiles_HaloMaker.dat\n",
      "yt : [DEBUG    ] 2017-10-03 18:04:32,492 '/automnt/data74/cadiou/simulations/DM_run/data/output_00001/'  Ra3  1  00001\n",
      "'/automnt/data74/cadiou/simulations/DM_run/data/output_00002/'  Ra3  1  00002\n",
      "'/automnt/data74/cadiou/simulations/DM_run/data/output_00003/'  Ra3  1  00003\n",
      "'/automnt/data74/cadiou/simulations/DM_run/data/output_00004/'  Ra3  1  00004\n",
      "'/automnt/data74/cadiou/simulations/DM_run/data/output_00005/'  Ra3  1  00005\n",
      "'/automnt/data74/cadiou/simulations/DM_run/data/output_00006/'  Ra3  1  00006\n",
      "'/automnt/data74/cadiou/simulations/DM_run/data/output_00007/'  Ra3  1  00007\n",
      "'/automnt/data74/cadiou/simulations/DM_run/data/output_00008/'  Ra3  1  00008\n",
      "'/automnt/data74/cadiou/simulations/DM_run/data/output_00009/'  Ra3  1  00009\n",
      "'/automnt/data74/cadiou/simulations/DM_run/data/output_00010/'  Ra3  1  00010\n",
      "'/automnt/data74/cadiou/simulations/DM_run/data/output_00011/'  Ra3  1  00011\n",
      "'/automnt/data74/cadiou/simulations/DM_run/data/output_00012/'  Ra3  1  00012\n",
      "'/automnt/data74/cadiou/simulations/DM_run/data/output_00013/'  Ra3  1  00013\n",
      "'/automnt/data74/cadiou/simulations/DM_run/data/output_00014/'  Ra3  1  00014\n",
      "'/automnt/data74/cadiou/simulations/DM_run/data/output_00015/'  Ra3  1  00015\n",
      "'/automnt/data74/cadiou/simulations/DM_run/data/output_00016/'  Ra3  1  00016\n",
      "'/automnt/data74/cadiou/simulations/DM_run/data/output_00017/'  Ra3  1  00017\n",
      "'/automnt/data74/cadiou/simulations/DM_run/data/output_00018/'  Ra3  1  00018\n",
      "'/automnt/data74/cadiou/simulations/DM_run/data/output_00019/'  Ra3  1  00019\n",
      "'/automnt/data74/cadiou/simulations/DM_run/data/output_00020/'  Ra3  1  00020\n",
      "'/automnt/data74/cadiou/simulations/DM_run/data/output_00021/'  Ra3  1  00021\n",
      "'/automnt/data74/cadiou/simulations/DM_run/data/output_00022/'  Ra3  1  00022\n",
      "'/automnt/data74/cadiou/simulations/DM_run/data/output_00023/'  Ra3  1  00023\n",
      "'/automnt/data74/cadiou/simulations/DM_run/data/output_00024/'  Ra3  1  00024\n",
      "'/automnt/data74/cadiou/simulations/DM_run/data/output_00025/'  Ra3  1  00025\n",
      "'/automnt/data74/cadiou/simulations/DM_run/data/output_00026/'  Ra3  1  00026\n",
      "'/automnt/data74/cadiou/simulations/DM_run/data/output_00027/'  Ra3  1  00027\n",
      "'/automnt/data74/cadiou/simulations/DM_run/data/output_00028/'  Ra3  1  00028\n",
      "'/automnt/data74/cadiou/simulations/DM_run/data/output_00029/'  Ra3  1  00029\n",
      "'/automnt/data74/cadiou/simulations/DM_run/data/output_00030/'  Ra3  1  00030\n",
      "'/automnt/data74/cadiou/simulations/DM_run/data/output_00031/'  Ra3  1  00031\n",
      "'/automnt/data74/cadiou/simulations/DM_run/data/output_00032/'  Ra3  1  00032\n",
      "'/automnt/data74/cadiou/simulations/DM_run/data/output_00033/'  Ra3  1  00033\n",
      "'/automnt/data74/cadiou/simulations/DM_run/data/output_00034/'  Ra3  1  00034\n",
      "'/automnt/data74/cadiou/simulations/DM_run/data/output_00035/'  Ra3  1  00035\n",
      "'/automnt/data74/cadiou/simulations/DM_run/data/output_00036/'  Ra3  1  00036\n",
      "'/automnt/data74/cadiou/simulations/DM_run/data/output_00037/'  Ra3  1  00037\n",
      "'/automnt/data74/cadiou/simulations/DM_run/data/output_00038/'  Ra3  1  00038\n"
     ]
    }
   ],
   "source": [
    "hf.write_inputfiles()"
   ]
  },
  {
   "cell_type": "markdown",
   "metadata": {},
   "source": [
    "Now let's generate the input parameters of HaloMaker. All the parameters here can be overriden by feeding `write_input` with any keyword argument. By default, this is what we get:"
   ]
  },
  {
   "cell_type": "code",
   "execution_count": 28,
   "metadata": {
    "ExecuteTime": {
     "end_time": "2017-10-03T16:04:40.615256Z",
     "start_time": "2017-10-03T16:04:40.481481Z"
    }
   },
   "outputs": [
    {
     "name": "stderr",
     "output_type": "stream",
     "text": [
      "yt : [INFO     ] 2017-10-03 18:04:40,604 Parameters: current_time              = 0.986482027226\n",
      "yt : [INFO     ] 2017-10-03 18:04:40,605 Parameters: domain_dimensions         = [256 256 256]\n",
      "yt : [INFO     ] 2017-10-03 18:04:40,606 Parameters: domain_left_edge          = [ 0.  0.  0.]\n",
      "yt : [INFO     ] 2017-10-03 18:04:40,606 Parameters: domain_right_edge         = [ 1.  1.  1.]\n",
      "yt : [INFO     ] 2017-10-03 18:04:40,607 Parameters: cosmological_simulation   = 1\n",
      "yt : [INFO     ] 2017-10-03 18:04:40,608 Parameters: current_redshift          = -0.00017299738055798208\n",
      "yt : [INFO     ] 2017-10-03 18:04:40,609 Parameters: omega_lambda              = 0.723999977111816\n",
      "yt : [INFO     ] 2017-10-03 18:04:40,610 Parameters: omega_matter              = 0.275999993085861\n",
      "yt : [INFO     ] 2017-10-03 18:04:40,610 Parameters: hubble_constant           = 0.703000030517578\n",
      "yt : [INFO     ] 2017-10-03 18:04:40,612 Writing input parameters to ../src/halo_finder/input_HaloMaker.dat\n",
      "yt : [DEBUG    ] 2017-10-03 18:04:40,613 af                   = 1.00017302731383\n",
      "lbox                 = 141.9857804265159\n",
      "H_f                  = 0.703000030517578\n",
      "omega_f              = 0.275999993085861\n",
      "lambda_f             = 0.723999977111816\n",
      "npart                = 100\n",
      "method               = MSM\n",
      "cdm                  = .false.\n",
      "b                    = 0.2\n",
      "nvoisins             = 20\n",
      "nhop                 = 20\n",
      "rhot                 = 80.0\n",
      "fudge                = 4.0\n",
      "fudgepsilon          = 0.001\n",
      "alphap               = 1.0\n",
      "verbose              = .false.\n",
      "megaverbose          = .false.\n",
      "nsteps               = 38\n",
      "FlagPeriod           = 1\n",
      "DPMMC                = .false.\n",
      "SC                   = .true.\n",
      "dcell_min            = 0.005781\n"
     ]
    }
   ],
   "source": [
    "hf.write_input()"
   ]
  },
  {
   "cell_type": "markdown",
   "metadata": {},
   "source": [
    "Now if we want to krank up the number of particles to have a halo, we can do:"
   ]
  },
  {
   "cell_type": "code",
   "execution_count": 27,
   "metadata": {
    "ExecuteTime": {
     "end_time": "2017-10-03T16:04:35.848567Z",
     "start_time": "2017-10-03T16:04:35.714914Z"
    }
   },
   "outputs": [
    {
     "name": "stderr",
     "output_type": "stream",
     "text": [
      "yt : [INFO     ] 2017-10-03 18:04:35,837 Parameters: current_time              = 0.986482027226\n",
      "yt : [INFO     ] 2017-10-03 18:04:35,838 Parameters: domain_dimensions         = [256 256 256]\n",
      "yt : [INFO     ] 2017-10-03 18:04:35,839 Parameters: domain_left_edge          = [ 0.  0.  0.]\n",
      "yt : [INFO     ] 2017-10-03 18:04:35,840 Parameters: domain_right_edge         = [ 1.  1.  1.]\n",
      "yt : [INFO     ] 2017-10-03 18:04:35,841 Parameters: cosmological_simulation   = 1\n",
      "yt : [INFO     ] 2017-10-03 18:04:35,842 Parameters: current_redshift          = -0.00017299738055798208\n",
      "yt : [INFO     ] 2017-10-03 18:04:35,842 Parameters: omega_lambda              = 0.723999977111816\n",
      "yt : [INFO     ] 2017-10-03 18:04:35,843 Parameters: omega_matter              = 0.275999993085861\n",
      "yt : [INFO     ] 2017-10-03 18:04:35,844 Parameters: hubble_constant           = 0.703000030517578\n",
      "yt : [INFO     ] 2017-10-03 18:04:35,845 Writing input parameters to ../src/halo_finder/input_HaloMaker.dat\n",
      "yt : [DEBUG    ] 2017-10-03 18:04:35,846 af                   = 1.00017302731383\n",
      "lbox                 = 141.9857804265159\n",
      "H_f                  = 0.703000030517578\n",
      "omega_f              = 0.275999993085861\n",
      "lambda_f             = 0.723999977111816\n",
      "npart                = 200\n",
      "method               = MSM\n",
      "cdm                  = .false.\n",
      "b                    = 0.2\n",
      "nvoisins             = 20\n",
      "nhop                 = 20\n",
      "rhot                 = 80.0\n",
      "fudge                = 4.0\n",
      "fudgepsilon          = 0.001\n",
      "alphap               = 1.0\n",
      "verbose              = .false.\n",
      "megaverbose          = .false.\n",
      "nsteps               = 38\n",
      "FlagPeriod           = 1\n",
      "DPMMC                = .false.\n",
      "SC                   = .true.\n",
      "dcell_min            = 0.005781\n"
     ]
    }
   ],
   "source": [
    "hf.write_input(npart=200)"
   ]
  },
  {
   "cell_type": "markdown",
   "metadata": {
    "collapsed": true
   },
   "source": [
    "Now we can even ask it to generate a `qsub` aware script. This script will use a working directory the `prefix` directory. It will create a `.started` on start and a `.done` when done, so that you can track whether or not it is done."
   ]
  },
  {
   "cell_type": "code",
   "execution_count": 29,
   "metadata": {
    "ExecuteTime": {
     "end_time": "2017-10-03T16:04:44.841470Z",
     "start_time": "2017-10-03T16:04:44.712967Z"
    }
   },
   "outputs": [
    {
     "name": "stderr",
     "output_type": "stream",
     "text": [
      "yt : [INFO     ] 2017-10-03 18:04:44,714 Copying binary file into ../src/halo_finder/\n",
      "yt : [INFO     ] 2017-10-03 18:04:44,728 Writing qsub file to ../src/halo_finder/job_halomaker.sh\n"
     ]
    },
    {
     "name": "stdout",
     "output_type": "stream",
     "text": [
      "\r\n",
      "#!/bin/sh\r\n",
      "#PBS -S /bin/sh\r\n",
      "#PBS -N HaloFinder\r\n",
      "#PBS -j oe\r\n",
      "#PBS -l nodes=1:ppn=16,walltime=4:00:00\r\n",
      "\r\n",
      "module () {\r\n",
      "  eval $(/usr/bin/modulecmd bash $*)\r\n",
      "}\r\n",
      "\r\n",
      "DIR=/automnt/data74/cadiou/simulations/DM_run/data/demonstration\r\n",
      "export OMP_NUM_THREADS=16\r\n",
      "module purge\r\n",
      "module load intel/15.0-python-3.5.1\r\n",
      "\r\n",
      "cd $DIR\r\n",
      "touch .started\r\n",
      "/home/cadiou/codes/HaloFinder/f90/HaloFinder_BR && rm .started && touch .done\r\n"
     ]
    }
   ],
   "source": [
    "hf.write_qsub()\n",
    "! cat demonstration/job_halomaker.sh"
   ]
  },
  {
   "cell_type": "markdown",
   "metadata": {
    "ExecuteTime": {
     "end_time": "2017-10-03T16:02:41.126771Z",
     "start_time": "2017-10-03T16:02:41.123074Z"
    }
   },
   "source": [
    "Now that we have generated our halos catalog at all the outputs, we may want to create a tree from it"
   ]
  },
  {
   "cell_type": "code",
   "execution_count": 30,
   "metadata": {
    "ExecuteTime": {
     "end_time": "2017-10-03T16:04:51.529736Z",
     "start_time": "2017-10-03T16:04:51.527046Z"
    },
    "collapsed": true
   },
   "outputs": [],
   "source": [
    "tm = halofinder.TreeMaker(folder='.', prefix='../src/halo_finder/')"
   ]
  },
  {
   "cell_type": "markdown",
   "metadata": {},
   "source": [
    "Once again, the bricks used as input for `TreeMaker` are detected."
   ]
  },
  {
   "cell_type": "code",
   "execution_count": 31,
   "metadata": {
    "ExecuteTime": {
     "end_time": "2017-10-03T16:05:17.033342Z",
     "start_time": "2017-10-03T16:05:17.025339Z"
    }
   },
   "outputs": [
    {
     "name": "stderr",
     "output_type": "stream",
     "text": [
      "yt : [INFO     ] 2017-10-03 18:05:17,029 Found 30 tree bricks\n"
     ]
    },
    {
     "data": {
      "text/plain": [
       "['/automnt/data74/cadiou/simulations/DM_run/src/halo_finder/tree_bricks009',\n",
       " '/automnt/data74/cadiou/simulations/DM_run/src/halo_finder/tree_bricks010',\n",
       " '/automnt/data74/cadiou/simulations/DM_run/src/halo_finder/tree_bricks011',\n",
       " '/automnt/data74/cadiou/simulations/DM_run/src/halo_finder/tree_bricks012',\n",
       " '/automnt/data74/cadiou/simulations/DM_run/src/halo_finder/tree_bricks013',\n",
       " '/automnt/data74/cadiou/simulations/DM_run/src/halo_finder/tree_bricks014',\n",
       " '/automnt/data74/cadiou/simulations/DM_run/src/halo_finder/tree_bricks015',\n",
       " '/automnt/data74/cadiou/simulations/DM_run/src/halo_finder/tree_bricks016',\n",
       " '/automnt/data74/cadiou/simulations/DM_run/src/halo_finder/tree_bricks017',\n",
       " '/automnt/data74/cadiou/simulations/DM_run/src/halo_finder/tree_bricks018',\n",
       " '/automnt/data74/cadiou/simulations/DM_run/src/halo_finder/tree_bricks019',\n",
       " '/automnt/data74/cadiou/simulations/DM_run/src/halo_finder/tree_bricks020',\n",
       " '/automnt/data74/cadiou/simulations/DM_run/src/halo_finder/tree_bricks021',\n",
       " '/automnt/data74/cadiou/simulations/DM_run/src/halo_finder/tree_bricks022',\n",
       " '/automnt/data74/cadiou/simulations/DM_run/src/halo_finder/tree_bricks023',\n",
       " '/automnt/data74/cadiou/simulations/DM_run/src/halo_finder/tree_bricks024',\n",
       " '/automnt/data74/cadiou/simulations/DM_run/src/halo_finder/tree_bricks025',\n",
       " '/automnt/data74/cadiou/simulations/DM_run/src/halo_finder/tree_bricks026',\n",
       " '/automnt/data74/cadiou/simulations/DM_run/src/halo_finder/tree_bricks027',\n",
       " '/automnt/data74/cadiou/simulations/DM_run/src/halo_finder/tree_bricks028',\n",
       " '/automnt/data74/cadiou/simulations/DM_run/src/halo_finder/tree_bricks029',\n",
       " '/automnt/data74/cadiou/simulations/DM_run/src/halo_finder/tree_bricks030',\n",
       " '/automnt/data74/cadiou/simulations/DM_run/src/halo_finder/tree_bricks031',\n",
       " '/automnt/data74/cadiou/simulations/DM_run/src/halo_finder/tree_bricks032',\n",
       " '/automnt/data74/cadiou/simulations/DM_run/src/halo_finder/tree_bricks033',\n",
       " '/automnt/data74/cadiou/simulations/DM_run/src/halo_finder/tree_bricks034',\n",
       " '/automnt/data74/cadiou/simulations/DM_run/src/halo_finder/tree_bricks035',\n",
       " '/automnt/data74/cadiou/simulations/DM_run/src/halo_finder/tree_bricks036',\n",
       " '/automnt/data74/cadiou/simulations/DM_run/src/halo_finder/tree_bricks037',\n",
       " '/automnt/data74/cadiou/simulations/DM_run/src/halo_finder/tree_bricks038']"
      ]
     },
     "execution_count": 31,
     "metadata": {},
     "output_type": "execute_result"
    }
   ],
   "source": [
    "tm.bricks"
   ]
  },
  {
   "cell_type": "markdown",
   "metadata": {},
   "source": [
    "To generate the input files for `TreeMaker`, run:"
   ]
  },
  {
   "cell_type": "code",
   "execution_count": 33,
   "metadata": {
    "ExecuteTime": {
     "end_time": "2017-10-03T16:05:45.308512Z",
     "start_time": "2017-10-03T16:05:45.190888Z"
    }
   },
   "outputs": [
    {
     "name": "stderr",
     "output_type": "stream",
     "text": [
      "yt : [INFO     ] 2017-10-03 18:05:45,192 Writing list of bricks in /automnt/data74/cadiou/simulations/DM_run/src/halo_finder/input_TreeMaker.dat\n"
     ]
    },
    {
     "name": "stdout",
     "output_type": "stream",
     "text": [
      "30 1\r\n",
      "'/automnt/data74/cadiou/simulations/DM_run/src/halo_finder/tree_bricks009'\r\n",
      "'/automnt/data74/cadiou/simulations/DM_run/src/halo_finder/tree_bricks010'\r\n",
      "'/automnt/data74/cadiou/simulations/DM_run/src/halo_finder/tree_bricks011'\r\n",
      "'/automnt/data74/cadiou/simulations/DM_run/src/halo_finder/tree_bricks012'\r\n",
      "'/automnt/data74/cadiou/simulations/DM_run/src/halo_finder/tree_bricks013'\r\n",
      "'/automnt/data74/cadiou/simulations/DM_run/src/halo_finder/tree_bricks014'\r\n",
      "'/automnt/data74/cadiou/simulations/DM_run/src/halo_finder/tree_bricks015'\r\n",
      "'/automnt/data74/cadiou/simulations/DM_run/src/halo_finder/tree_bricks016'\r\n",
      "'/automnt/data74/cadiou/simulations/DM_run/src/halo_finder/tree_bricks017'\r\n",
      "'/automnt/data74/cadiou/simulations/DM_run/src/halo_finder/tree_bricks018'\r\n",
      "'/automnt/data74/cadiou/simulations/DM_run/src/halo_finder/tree_bricks019'\r\n",
      "'/automnt/data74/cadiou/simulations/DM_run/src/halo_finder/tree_bricks020'\r\n",
      "'/automnt/data74/cadiou/simulations/DM_run/src/halo_finder/tree_bricks021'\r\n",
      "'/automnt/data74/cadiou/simulations/DM_run/src/halo_finder/tree_bricks022'\r\n",
      "'/automnt/data74/cadiou/simulations/DM_run/src/halo_finder/tree_bricks023'\r\n",
      "'/automnt/data74/cadiou/simulations/DM_run/src/halo_finder/tree_bricks024'\r\n",
      "'/automnt/data74/cadiou/simulations/DM_run/src/halo_finder/tree_bricks025'\r\n",
      "'/automnt/data74/cadiou/simulations/DM_run/src/halo_finder/tree_bricks026'\r\n",
      "'/automnt/data74/cadiou/simulations/DM_run/src/halo_finder/tree_bricks027'\r\n",
      "'/automnt/data74/cadiou/simulations/DM_run/src/halo_finder/tree_bricks028'\r\n",
      "'/automnt/data74/cadiou/simulations/DM_run/src/halo_finder/tree_bricks029'\r\n",
      "'/automnt/data74/cadiou/simulations/DM_run/src/halo_finder/tree_bricks030'\r\n",
      "'/automnt/data74/cadiou/simulations/DM_run/src/halo_finder/tree_bricks031'\r\n",
      "'/automnt/data74/cadiou/simulations/DM_run/src/halo_finder/tree_bricks032'\r\n",
      "'/automnt/data74/cadiou/simulations/DM_run/src/halo_finder/tree_bricks033'\r\n",
      "'/automnt/data74/cadiou/simulations/DM_run/src/halo_finder/tree_bricks034'\r\n",
      "'/automnt/data74/cadiou/simulations/DM_run/src/halo_finder/tree_bricks035'\r\n",
      "'/automnt/data74/cadiou/simulations/DM_run/src/halo_finder/tree_bricks036'\r\n",
      "'/automnt/data74/cadiou/simulations/DM_run/src/halo_finder/tree_bricks037'\r\n",
      "'/automnt/data74/cadiou/simulations/DM_run/src/halo_finder/tree_bricks038'"
     ]
    }
   ],
   "source": [
    "tm.write_inputfiles()\n",
    "!cat ../src/halo_finder/input_TreeMaker.dat"
   ]
  },
  {
   "cell_type": "markdown",
   "metadata": {},
   "source": [
    "You can also generate a qsub file for TreeMaker *using*"
   ]
  },
  {
   "cell_type": "code",
   "execution_count": 35,
   "metadata": {
    "ExecuteTime": {
     "end_time": "2017-10-03T16:06:23.787344Z",
     "start_time": "2017-10-03T16:06:23.658489Z"
    }
   },
   "outputs": [
    {
     "name": "stderr",
     "output_type": "stream",
     "text": [
      "yt : [INFO     ] 2017-10-03 18:06:23,660 Copying binary file into /automnt/data74/cadiou/simulations/DM_run/src/halo_finder\n",
      "yt : [INFO     ] 2017-10-03 18:06:23,674 Writing qsub file to /automnt/data74/cadiou/simulations/DM_run/src/halo_finder/job_treemaker.sh\n"
     ]
    },
    {
     "name": "stdout",
     "output_type": "stream",
     "text": [
      "\r\n",
      "#!/bin/sh\r\n",
      "#PBS -S /bin/sh\r\n",
      "#PBS -N TreeMaker\r\n",
      "#PBS -j oe\r\n",
      "#PBS -l nodes=1:ppn=16,walltime=4:00:00\r\n",
      "\r\n",
      "module () {\r\n",
      "  eval $(/usr/bin/modulecmd bash $*)\r\n",
      "}\r\n",
      "\r\n",
      "DIR=/automnt/data74/cadiou/simulations/DM_run/src/halo_finder\r\n",
      "export OMP_NUM_THREADS=16\r\n",
      "module purge\r\n",
      "module load intel/15.0-python-3.5.1\r\n",
      "\r\n",
      "cd $DIR\r\n",
      "touch .started\r\n",
      "/home/cadiou/codes/TreeMaker/f90/TreeMaker_BR && rm .started && touch .done\r\n"
     ]
    }
   ],
   "source": [
    "tm.write_qsub()\n",
    "! cat ../src/halo_finder/job_treemaker.sh"
   ]
  },
  {
   "cell_type": "markdown",
   "metadata": {},
   "source": [
    "It is also possible to directly submit the job *via* python, but the recommended way is to customize the generated qsub files instead, submit it via `qsub job_treemaker.sh`.\n",
    "\n",
    "Finally, you may want to use the data found in the `prefix` folder with `pyrats`. For this, a convenience function has been written."
   ]
  },
  {
   "cell_type": "code",
   "execution_count": 36,
   "metadata": {
    "ExecuteTime": {
     "end_time": "2017-10-03T16:08:24.935193Z",
     "start_time": "2017-10-03T16:08:24.866236Z"
    }
   },
   "outputs": [
    {
     "name": "stderr",
     "output_type": "stream",
     "text": [
      "yt : [INFO     ] 2017-10-03 18:08:24,868 Creating halo directories\n",
      "yt : [DEBUG    ] 2017-10-03 18:08:24,869 Linking /automnt/data74/cadiou/simulations/DM_run/src/halo_finder/tree_bricks009 -> /automnt/data74/cadiou/simulations/DM_run/data/Halos/9/tree_bricks009\n",
      "yt : [DEBUG    ] 2017-10-03 18:08:24,870 Linking /automnt/data74/cadiou/simulations/DM_run/src/halo_finder/tree_bricks010 -> /automnt/data74/cadiou/simulations/DM_run/data/Halos/10/tree_bricks010\n",
      "yt : [DEBUG    ] 2017-10-03 18:08:24,872 Linking /automnt/data74/cadiou/simulations/DM_run/src/halo_finder/tree_bricks011 -> /automnt/data74/cadiou/simulations/DM_run/data/Halos/11/tree_bricks011\n",
      "yt : [DEBUG    ] 2017-10-03 18:08:24,873 Linking /automnt/data74/cadiou/simulations/DM_run/src/halo_finder/tree_bricks012 -> /automnt/data74/cadiou/simulations/DM_run/data/Halos/12/tree_bricks012\n",
      "yt : [DEBUG    ] 2017-10-03 18:08:24,874 Linking /automnt/data74/cadiou/simulations/DM_run/src/halo_finder/tree_bricks013 -> /automnt/data74/cadiou/simulations/DM_run/data/Halos/13/tree_bricks013\n",
      "yt : [DEBUG    ] 2017-10-03 18:08:24,875 Linking /automnt/data74/cadiou/simulations/DM_run/src/halo_finder/tree_bricks014 -> /automnt/data74/cadiou/simulations/DM_run/data/Halos/14/tree_bricks014\n",
      "yt : [DEBUG    ] 2017-10-03 18:08:24,876 Linking /automnt/data74/cadiou/simulations/DM_run/src/halo_finder/tree_bricks015 -> /automnt/data74/cadiou/simulations/DM_run/data/Halos/15/tree_bricks015\n",
      "yt : [DEBUG    ] 2017-10-03 18:08:24,877 Linking /automnt/data74/cadiou/simulations/DM_run/src/halo_finder/tree_bricks016 -> /automnt/data74/cadiou/simulations/DM_run/data/Halos/16/tree_bricks016\n",
      "yt : [DEBUG    ] 2017-10-03 18:08:24,878 Linking /automnt/data74/cadiou/simulations/DM_run/src/halo_finder/tree_bricks017 -> /automnt/data74/cadiou/simulations/DM_run/data/Halos/17/tree_bricks017\n",
      "yt : [DEBUG    ] 2017-10-03 18:08:24,879 Linking /automnt/data74/cadiou/simulations/DM_run/src/halo_finder/tree_bricks018 -> /automnt/data74/cadiou/simulations/DM_run/data/Halos/18/tree_bricks018\n",
      "yt : [DEBUG    ] 2017-10-03 18:08:24,880 Linking /automnt/data74/cadiou/simulations/DM_run/src/halo_finder/tree_bricks019 -> /automnt/data74/cadiou/simulations/DM_run/data/Halos/19/tree_bricks019\n",
      "yt : [DEBUG    ] 2017-10-03 18:08:24,881 Linking /automnt/data74/cadiou/simulations/DM_run/src/halo_finder/tree_bricks020 -> /automnt/data74/cadiou/simulations/DM_run/data/Halos/20/tree_bricks020\n",
      "yt : [DEBUG    ] 2017-10-03 18:08:24,882 Linking /automnt/data74/cadiou/simulations/DM_run/src/halo_finder/tree_bricks021 -> /automnt/data74/cadiou/simulations/DM_run/data/Halos/21/tree_bricks021\n",
      "yt : [DEBUG    ] 2017-10-03 18:08:24,883 Linking /automnt/data74/cadiou/simulations/DM_run/src/halo_finder/tree_bricks022 -> /automnt/data74/cadiou/simulations/DM_run/data/Halos/22/tree_bricks022\n",
      "yt : [DEBUG    ] 2017-10-03 18:08:24,884 Linking /automnt/data74/cadiou/simulations/DM_run/src/halo_finder/tree_bricks023 -> /automnt/data74/cadiou/simulations/DM_run/data/Halos/23/tree_bricks023\n",
      "yt : [DEBUG    ] 2017-10-03 18:08:24,885 Linking /automnt/data74/cadiou/simulations/DM_run/src/halo_finder/tree_bricks024 -> /automnt/data74/cadiou/simulations/DM_run/data/Halos/24/tree_bricks024\n",
      "yt : [DEBUG    ] 2017-10-03 18:08:24,887 Linking /automnt/data74/cadiou/simulations/DM_run/src/halo_finder/tree_bricks025 -> /automnt/data74/cadiou/simulations/DM_run/data/Halos/25/tree_bricks025\n",
      "yt : [DEBUG    ] 2017-10-03 18:08:24,888 Linking /automnt/data74/cadiou/simulations/DM_run/src/halo_finder/tree_bricks026 -> /automnt/data74/cadiou/simulations/DM_run/data/Halos/26/tree_bricks026\n",
      "yt : [DEBUG    ] 2017-10-03 18:08:24,889 Linking /automnt/data74/cadiou/simulations/DM_run/src/halo_finder/tree_bricks027 -> /automnt/data74/cadiou/simulations/DM_run/data/Halos/27/tree_bricks027\n",
      "yt : [DEBUG    ] 2017-10-03 18:08:24,890 Linking /automnt/data74/cadiou/simulations/DM_run/src/halo_finder/tree_bricks028 -> /automnt/data74/cadiou/simulations/DM_run/data/Halos/28/tree_bricks028\n",
      "yt : [DEBUG    ] 2017-10-03 18:08:24,891 Linking /automnt/data74/cadiou/simulations/DM_run/src/halo_finder/tree_bricks029 -> /automnt/data74/cadiou/simulations/DM_run/data/Halos/29/tree_bricks029\n",
      "yt : [DEBUG    ] 2017-10-03 18:08:24,892 Linking /automnt/data74/cadiou/simulations/DM_run/src/halo_finder/tree_bricks030 -> /automnt/data74/cadiou/simulations/DM_run/data/Halos/30/tree_bricks030\n",
      "yt : [DEBUG    ] 2017-10-03 18:08:24,893 Linking /automnt/data74/cadiou/simulations/DM_run/src/halo_finder/tree_bricks031 -> /automnt/data74/cadiou/simulations/DM_run/data/Halos/31/tree_bricks031\n",
      "yt : [DEBUG    ] 2017-10-03 18:08:24,894 Linking /automnt/data74/cadiou/simulations/DM_run/src/halo_finder/tree_bricks032 -> /automnt/data74/cadiou/simulations/DM_run/data/Halos/32/tree_bricks032\n",
      "yt : [DEBUG    ] 2017-10-03 18:08:24,895 Linking /automnt/data74/cadiou/simulations/DM_run/src/halo_finder/tree_bricks033 -> /automnt/data74/cadiou/simulations/DM_run/data/Halos/33/tree_bricks033\n",
      "yt : [DEBUG    ] 2017-10-03 18:08:24,896 Linking /automnt/data74/cadiou/simulations/DM_run/src/halo_finder/tree_bricks034 -> /automnt/data74/cadiou/simulations/DM_run/data/Halos/34/tree_bricks034\n",
      "yt : [DEBUG    ] 2017-10-03 18:08:24,897 Linking /automnt/data74/cadiou/simulations/DM_run/src/halo_finder/tree_bricks035 -> /automnt/data74/cadiou/simulations/DM_run/data/Halos/35/tree_bricks035\n",
      "yt : [DEBUG    ] 2017-10-03 18:08:24,898 Linking /automnt/data74/cadiou/simulations/DM_run/src/halo_finder/tree_bricks036 -> /automnt/data74/cadiou/simulations/DM_run/data/Halos/36/tree_bricks036\n",
      "yt : [DEBUG    ] 2017-10-03 18:08:24,899 Linking /automnt/data74/cadiou/simulations/DM_run/src/halo_finder/tree_bricks037 -> /automnt/data74/cadiou/simulations/DM_run/data/Halos/37/tree_bricks037\n",
      "yt : [DEBUG    ] 2017-10-03 18:08:24,900 Linking /automnt/data74/cadiou/simulations/DM_run/src/halo_finder/tree_bricks038 -> /automnt/data74/cadiou/simulations/DM_run/data/Halos/38/tree_bricks038\n",
      "yt : [INFO     ] 2017-10-03 18:08:24,901 Creating tree directories\n",
      "yt : [DEBUG    ] 2017-10-03 18:08:24,902 Linking /automnt/data74/cadiou/simulations/DM_run/src/halo_finder/tree_bricks009 -> /automnt/data74/cadiou/simulations/DM_run/data/Trees/tree_bricks009\n",
      "yt : [DEBUG    ] 2017-10-03 18:08:24,903 Linking /automnt/data74/cadiou/simulations/DM_run/src/halo_finder/tree_bricks010 -> /automnt/data74/cadiou/simulations/DM_run/data/Trees/tree_bricks010\n",
      "yt : [DEBUG    ] 2017-10-03 18:08:24,904 Linking /automnt/data74/cadiou/simulations/DM_run/src/halo_finder/tree_bricks011 -> /automnt/data74/cadiou/simulations/DM_run/data/Trees/tree_bricks011\n",
      "yt : [DEBUG    ] 2017-10-03 18:08:24,905 Linking /automnt/data74/cadiou/simulations/DM_run/src/halo_finder/tree_bricks012 -> /automnt/data74/cadiou/simulations/DM_run/data/Trees/tree_bricks012\n",
      "yt : [DEBUG    ] 2017-10-03 18:08:24,906 Linking /automnt/data74/cadiou/simulations/DM_run/src/halo_finder/tree_bricks013 -> /automnt/data74/cadiou/simulations/DM_run/data/Trees/tree_bricks013\n",
      "yt : [DEBUG    ] 2017-10-03 18:08:24,907 Linking /automnt/data74/cadiou/simulations/DM_run/src/halo_finder/tree_bricks014 -> /automnt/data74/cadiou/simulations/DM_run/data/Trees/tree_bricks014\n",
      "yt : [DEBUG    ] 2017-10-03 18:08:24,908 Linking /automnt/data74/cadiou/simulations/DM_run/src/halo_finder/tree_bricks015 -> /automnt/data74/cadiou/simulations/DM_run/data/Trees/tree_bricks015\n",
      "yt : [DEBUG    ] 2017-10-03 18:08:24,909 Linking /automnt/data74/cadiou/simulations/DM_run/src/halo_finder/tree_bricks016 -> /automnt/data74/cadiou/simulations/DM_run/data/Trees/tree_bricks016\n",
      "yt : [DEBUG    ] 2017-10-03 18:08:24,910 Linking /automnt/data74/cadiou/simulations/DM_run/src/halo_finder/tree_bricks017 -> /automnt/data74/cadiou/simulations/DM_run/data/Trees/tree_bricks017\n",
      "yt : [DEBUG    ] 2017-10-03 18:08:24,910 Linking /automnt/data74/cadiou/simulations/DM_run/src/halo_finder/tree_bricks018 -> /automnt/data74/cadiou/simulations/DM_run/data/Trees/tree_bricks018\n",
      "yt : [DEBUG    ] 2017-10-03 18:08:24,911 Linking /automnt/data74/cadiou/simulations/DM_run/src/halo_finder/tree_bricks019 -> /automnt/data74/cadiou/simulations/DM_run/data/Trees/tree_bricks019\n",
      "yt : [DEBUG    ] 2017-10-03 18:08:24,912 Linking /automnt/data74/cadiou/simulations/DM_run/src/halo_finder/tree_bricks020 -> /automnt/data74/cadiou/simulations/DM_run/data/Trees/tree_bricks020\n"
     ]
    },
    {
     "name": "stderr",
     "output_type": "stream",
     "text": [
      "yt : [DEBUG    ] 2017-10-03 18:08:24,913 Linking /automnt/data74/cadiou/simulations/DM_run/src/halo_finder/tree_bricks021 -> /automnt/data74/cadiou/simulations/DM_run/data/Trees/tree_bricks021\n",
      "yt : [DEBUG    ] 2017-10-03 18:08:24,914 Linking /automnt/data74/cadiou/simulations/DM_run/src/halo_finder/tree_bricks022 -> /automnt/data74/cadiou/simulations/DM_run/data/Trees/tree_bricks022\n",
      "yt : [DEBUG    ] 2017-10-03 18:08:24,915 Linking /automnt/data74/cadiou/simulations/DM_run/src/halo_finder/tree_bricks023 -> /automnt/data74/cadiou/simulations/DM_run/data/Trees/tree_bricks023\n",
      "yt : [DEBUG    ] 2017-10-03 18:08:24,916 Linking /automnt/data74/cadiou/simulations/DM_run/src/halo_finder/tree_bricks024 -> /automnt/data74/cadiou/simulations/DM_run/data/Trees/tree_bricks024\n",
      "yt : [DEBUG    ] 2017-10-03 18:08:24,917 Linking /automnt/data74/cadiou/simulations/DM_run/src/halo_finder/tree_bricks025 -> /automnt/data74/cadiou/simulations/DM_run/data/Trees/tree_bricks025\n",
      "yt : [DEBUG    ] 2017-10-03 18:08:24,918 Linking /automnt/data74/cadiou/simulations/DM_run/src/halo_finder/tree_bricks026 -> /automnt/data74/cadiou/simulations/DM_run/data/Trees/tree_bricks026\n",
      "yt : [DEBUG    ] 2017-10-03 18:08:24,918 Linking /automnt/data74/cadiou/simulations/DM_run/src/halo_finder/tree_bricks027 -> /automnt/data74/cadiou/simulations/DM_run/data/Trees/tree_bricks027\n",
      "yt : [DEBUG    ] 2017-10-03 18:08:24,919 Linking /automnt/data74/cadiou/simulations/DM_run/src/halo_finder/tree_bricks028 -> /automnt/data74/cadiou/simulations/DM_run/data/Trees/tree_bricks028\n",
      "yt : [DEBUG    ] 2017-10-03 18:08:24,920 Linking /automnt/data74/cadiou/simulations/DM_run/src/halo_finder/tree_bricks029 -> /automnt/data74/cadiou/simulations/DM_run/data/Trees/tree_bricks029\n",
      "yt : [DEBUG    ] 2017-10-03 18:08:24,921 Linking /automnt/data74/cadiou/simulations/DM_run/src/halo_finder/tree_bricks030 -> /automnt/data74/cadiou/simulations/DM_run/data/Trees/tree_bricks030\n",
      "yt : [DEBUG    ] 2017-10-03 18:08:24,922 Linking /automnt/data74/cadiou/simulations/DM_run/src/halo_finder/tree_bricks031 -> /automnt/data74/cadiou/simulations/DM_run/data/Trees/tree_bricks031\n",
      "yt : [DEBUG    ] 2017-10-03 18:08:24,923 Linking /automnt/data74/cadiou/simulations/DM_run/src/halo_finder/tree_bricks032 -> /automnt/data74/cadiou/simulations/DM_run/data/Trees/tree_bricks032\n",
      "yt : [DEBUG    ] 2017-10-03 18:08:24,924 Linking /automnt/data74/cadiou/simulations/DM_run/src/halo_finder/tree_bricks033 -> /automnt/data74/cadiou/simulations/DM_run/data/Trees/tree_bricks033\n",
      "yt : [DEBUG    ] 2017-10-03 18:08:24,925 Linking /automnt/data74/cadiou/simulations/DM_run/src/halo_finder/tree_bricks034 -> /automnt/data74/cadiou/simulations/DM_run/data/Trees/tree_bricks034\n",
      "yt : [DEBUG    ] 2017-10-03 18:08:24,926 Linking /automnt/data74/cadiou/simulations/DM_run/src/halo_finder/tree_bricks035 -> /automnt/data74/cadiou/simulations/DM_run/data/Trees/tree_bricks035\n",
      "yt : [DEBUG    ] 2017-10-03 18:08:24,926 Linking /automnt/data74/cadiou/simulations/DM_run/src/halo_finder/tree_bricks036 -> /automnt/data74/cadiou/simulations/DM_run/data/Trees/tree_bricks036\n",
      "yt : [DEBUG    ] 2017-10-03 18:08:24,927 Linking /automnt/data74/cadiou/simulations/DM_run/src/halo_finder/tree_bricks037 -> /automnt/data74/cadiou/simulations/DM_run/data/Trees/tree_bricks037\n",
      "yt : [DEBUG    ] 2017-10-03 18:08:24,928 Linking /automnt/data74/cadiou/simulations/DM_run/src/halo_finder/tree_bricks038 -> /automnt/data74/cadiou/simulations/DM_run/data/Trees/tree_bricks038\n",
      "yt : [DEBUG    ] 2017-10-03 18:08:24,930 Linking /automnt/data74/cadiou/simulations/DM_run/src/halo_finder/tstep_file_030.001 -> /automnt/data74/cadiou/simulations/DM_run/data/Trees/tstep_file_030.001\n",
      "yt : [DEBUG    ] 2017-10-03 18:08:24,931 Linking /automnt/data74/cadiou/simulations/DM_run/src/halo_finder/tree_file_030.001 -> /automnt/data74/cadiou/simulations/DM_run/data/Trees/tree_file_030.001\n",
      "yt : [DEBUG    ] 2017-10-03 18:08:24,933 Linking /automnt/data74/cadiou/simulations/DM_run/src/halo_finder/props_030.001 -> /automnt/data74/cadiou/simulations/DM_run/data/Trees/props_030.001\n"
     ]
    }
   ],
   "source": [
    "halofinder.setup_for_pyrat(prefix='../src/halo_finder/', dest='.')"
   ]
  },
  {
   "cell_type": "code",
   "execution_count": 38,
   "metadata": {
    "ExecuteTime": {
     "end_time": "2017-10-03T16:08:36.272647Z",
     "start_time": "2017-10-03T16:08:36.125336Z"
    }
   },
   "outputs": [
    {
     "name": "stdout",
     "output_type": "stream",
     "text": [
      "10/  12/  14/  16/  18/  20/  22/  24/  26/  28/  30/  32/  34/  36/  38/\n",
      "11/  13/  15/  17/  19/  21/  23/  25/  27/  29/  31/  33/  35/  37/  9/\n"
     ]
    }
   ],
   "source": [
    "ls Halos/"
   ]
  },
  {
   "cell_type": "code",
   "execution_count": 42,
   "metadata": {
    "ExecuteTime": {
     "end_time": "2017-10-03T16:08:53.561629Z",
     "start_time": "2017-10-03T16:08:53.415702Z"
    }
   },
   "outputs": [
    {
     "name": "stdout",
     "output_type": "stream",
     "text": [
      "props_030.001@   tree_bricks017@  tree_bricks026@  tree_bricks035@\n",
      "tree_bricks009@  tree_bricks018@  tree_bricks027@  tree_bricks036@\n",
      "tree_bricks010@  tree_bricks019@  tree_bricks028@  tree_bricks037@\n",
      "tree_bricks011@  tree_bricks020@  tree_bricks029@  tree_bricks038@\n",
      "tree_bricks012@  tree_bricks021@  tree_bricks030@  tree_file_030.001@\n",
      "tree_bricks013@  tree_bricks022@  tree_bricks031@  tstep_file_030.001@\n",
      "tree_bricks014@  tree_bricks023@  tree_bricks032@\n",
      "tree_bricks015@  tree_bricks024@  tree_bricks033@\n",
      "tree_bricks016@  tree_bricks025@  tree_bricks034@\n"
     ]
    }
   ],
   "source": [
    "ls Trees/"
   ]
  },
  {
   "cell_type": "code",
   "execution_count": 44,
   "metadata": {
    "ExecuteTime": {
     "end_time": "2017-10-03T16:09:22.554314Z",
     "start_time": "2017-10-03T16:09:22.013324Z"
    }
   },
   "outputs": [
    {
     "name": "stderr",
     "output_type": "stream",
     "text": [
      "yt : [INFO     ] 2017-10-03 18:09:22,140 Parameters: current_time              = 2.16253314904\n",
      "yt : [INFO     ] 2017-10-03 18:09:22,141 Parameters: domain_dimensions         = [256 256 256]\n",
      "yt : [INFO     ] 2017-10-03 18:09:22,142 Parameters: domain_left_edge          = [ 0.  0.  0.]\n",
      "yt : [INFO     ] 2017-10-03 18:09:22,143 Parameters: domain_right_edge         = [ 1.  1.  1.]\n",
      "yt : [INFO     ] 2017-10-03 18:09:22,144 Parameters: cosmological_simulation   = 1\n",
      "yt : [INFO     ] 2017-10-03 18:09:22,145 Parameters: current_redshift          = 1.997661066421045\n",
      "yt : [INFO     ] 2017-10-03 18:09:22,145 Parameters: omega_lambda              = 0.723999977111816\n",
      "yt : [INFO     ] 2017-10-03 18:09:22,146 Parameters: omega_matter              = 0.275999993085861\n",
      "yt : [INFO     ] 2017-10-03 18:09:22,147 Parameters: hubble_constant           = 0.703000030517578\n",
      "yt : [INFO     ] 2017-10-03 18:09:22,148 Reading halos\n",
      "yt : [INFO     ] 2017-10-03 18:09:22,149 Brick: halos       : 4687\n",
      "yt : [INFO     ] 2017-10-03 18:09:22,150 Brick: sub halos   : 562\n",
      "yt : [INFO     ] 2017-10-03 18:09:22,151 Brick: aexp        : 0.333651\n",
      " 78%|███████▊  | 4068/5249 [00:00<00:00, 13583.41it/s]"
     ]
    }
   ],
   "source": [
    "import pyrats\n",
    "ds = pyrats.load(20, halo=True)"
   ]
  },
  {
   "cell_type": "code",
   "execution_count": 46,
   "metadata": {
    "ExecuteTime": {
     "end_time": "2017-10-03T16:09:44.324826Z",
     "start_time": "2017-10-03T16:09:44.314107Z"
    }
   },
   "outputs": [
    {
     "data": {
      "text/plain": [
       "[('all', 'mesh_id'),\n",
       " ('all', 'particle_angular_momentum'),\n",
       " ('all', 'particle_angular_momentum_magnitude'),\n",
       " ('all', 'particle_angular_momentum_x'),\n",
       " ('all', 'particle_angular_momentum_y'),\n",
       " ('all', 'particle_angular_momentum_z'),\n",
       " ('all', 'particle_cylindrical_velocity_theta'),\n",
       " ('all', 'particle_cylindrical_velocity_z'),\n",
       " ('all', 'particle_extra_field_1'),\n",
       " ('all', 'particle_extra_field_2'),\n",
       " ('all', 'particle_identifier'),\n",
       " ('all', 'particle_index'),\n",
       " ('all', 'particle_mass'),\n",
       " ('all', 'particle_ones'),\n",
       " ('all', 'particle_position'),\n",
       " ('all', 'particle_position_cylindrical_radius'),\n",
       " ('all', 'particle_position_cylindrical_theta'),\n",
       " ('all', 'particle_position_cylindrical_z'),\n",
       " ('all', 'particle_position_relative'),\n",
       " ('all', 'particle_position_relative_x'),\n",
       " ('all', 'particle_position_relative_y'),\n",
       " ('all', 'particle_position_relative_z'),\n",
       " ('all', 'particle_position_spherical_phi'),\n",
       " ('all', 'particle_position_spherical_radius'),\n",
       " ('all', 'particle_position_spherical_theta'),\n",
       " ('all', 'particle_position_x'),\n",
       " ('all', 'particle_position_y'),\n",
       " ('all', 'particle_position_z'),\n",
       " ('all', 'particle_radial_velocity'),\n",
       " ('all', 'particle_radius'),\n",
       " ('all', 'particle_refinement_level'),\n",
       " ('all', 'particle_specific_angular_momentum'),\n",
       " ('all', 'particle_specific_angular_momentum_x'),\n",
       " ('all', 'particle_specific_angular_momentum_y'),\n",
       " ('all', 'particle_specific_angular_momentum_z'),\n",
       " ('all', 'particle_spherical_position_phi'),\n",
       " ('all', 'particle_spherical_position_radius'),\n",
       " ('all', 'particle_spherical_position_theta'),\n",
       " ('all', 'particle_spherical_velocity_phi'),\n",
       " ('all', 'particle_spherical_velocity_radius'),\n",
       " ('all', 'particle_spherical_velocity_theta'),\n",
       " ('all', 'particle_velocity'),\n",
       " ('all', 'particle_velocity_cylindrical_radius'),\n",
       " ('all', 'particle_velocity_cylindrical_theta'),\n",
       " ('all', 'particle_velocity_cylindrical_z'),\n",
       " ('all', 'particle_velocity_magnitude'),\n",
       " ('all', 'particle_velocity_relative'),\n",
       " ('all', 'particle_velocity_relative_x'),\n",
       " ('all', 'particle_velocity_relative_y'),\n",
       " ('all', 'particle_velocity_relative_z'),\n",
       " ('all', 'particle_velocity_spherical_phi'),\n",
       " ('all', 'particle_velocity_spherical_radius'),\n",
       " ('all', 'particle_velocity_spherical_theta'),\n",
       " ('all', 'particle_velocity_x'),\n",
       " ('all', 'particle_velocity_y'),\n",
       " ('all', 'particle_velocity_z'),\n",
       " ('deposit', 'all_cic'),\n",
       " ('deposit', 'all_cic_velocity_x'),\n",
       " ('deposit', 'all_cic_velocity_y'),\n",
       " ('deposit', 'all_cic_velocity_z'),\n",
       " ('deposit', 'all_count'),\n",
       " ('deposit', 'all_density'),\n",
       " ('deposit', 'all_mass'),\n",
       " ('deposit', 'all_nn_velocity_x'),\n",
       " ('deposit', 'all_nn_velocity_y'),\n",
       " ('deposit', 'all_nn_velocity_z'),\n",
       " ('deposit', 'io_cic'),\n",
       " ('deposit', 'io_cic_velocity_x'),\n",
       " ('deposit', 'io_cic_velocity_y'),\n",
       " ('deposit', 'io_cic_velocity_z'),\n",
       " ('deposit', 'io_count'),\n",
       " ('deposit', 'io_density'),\n",
       " ('deposit', 'io_mass'),\n",
       " ('deposit', 'io_nn_velocity_x'),\n",
       " ('deposit', 'io_nn_velocity_y'),\n",
       " ('deposit', 'io_nn_velocity_z'),\n",
       " ('gas', 'cell_volume'),\n",
       " ('gas', 'dx'),\n",
       " ('gas', 'dy'),\n",
       " ('gas', 'dz'),\n",
       " ('gas', 'path_element_x'),\n",
       " ('gas', 'path_element_y'),\n",
       " ('gas', 'path_element_z'),\n",
       " ('gas', 'vertex_x'),\n",
       " ('gas', 'vertex_y'),\n",
       " ('gas', 'vertex_z'),\n",
       " ('gas', 'x'),\n",
       " ('gas', 'y'),\n",
       " ('gas', 'z'),\n",
       " ('index', 'cell_volume'),\n",
       " ('index', 'cylindrical_r'),\n",
       " ('index', 'cylindrical_radius'),\n",
       " ('index', 'cylindrical_theta'),\n",
       " ('index', 'cylindrical_z'),\n",
       " ('index', 'disk_angle'),\n",
       " ('index', 'dx'),\n",
       " ('index', 'dy'),\n",
       " ('index', 'dz'),\n",
       " ('index', 'grid_indices'),\n",
       " ('index', 'grid_level'),\n",
       " ('index', 'height'),\n",
       " ('index', 'morton_index'),\n",
       " ('index', 'ones'),\n",
       " ('index', 'ones_over_dx'),\n",
       " ('index', 'path_element_x'),\n",
       " ('index', 'path_element_y'),\n",
       " ('index', 'path_element_z'),\n",
       " ('index', 'radius'),\n",
       " ('index', 'spherical_phi'),\n",
       " ('index', 'spherical_r'),\n",
       " ('index', 'spherical_radius'),\n",
       " ('index', 'spherical_theta'),\n",
       " ('index', 'vertex_x'),\n",
       " ('index', 'vertex_y'),\n",
       " ('index', 'vertex_z'),\n",
       " ('index', 'virial_radius_fraction'),\n",
       " ('index', 'x'),\n",
       " ('index', 'y'),\n",
       " ('index', 'z'),\n",
       " ('index', 'zeros'),\n",
       " ('io', 'mesh_id'),\n",
       " ('io', 'particle_angular_momentum'),\n",
       " ('io', 'particle_angular_momentum_magnitude'),\n",
       " ('io', 'particle_angular_momentum_x'),\n",
       " ('io', 'particle_angular_momentum_y'),\n",
       " ('io', 'particle_angular_momentum_z'),\n",
       " ('io', 'particle_cylindrical_velocity_theta'),\n",
       " ('io', 'particle_cylindrical_velocity_z'),\n",
       " ('io', 'particle_extra_field_1'),\n",
       " ('io', 'particle_extra_field_2'),\n",
       " ('io', 'particle_identifier'),\n",
       " ('io', 'particle_index'),\n",
       " ('io', 'particle_mass'),\n",
       " ('io', 'particle_ones'),\n",
       " ('io', 'particle_position'),\n",
       " ('io', 'particle_position_cylindrical_radius'),\n",
       " ('io', 'particle_position_cylindrical_theta'),\n",
       " ('io', 'particle_position_cylindrical_z'),\n",
       " ('io', 'particle_position_relative'),\n",
       " ('io', 'particle_position_relative_x'),\n",
       " ('io', 'particle_position_relative_y'),\n",
       " ('io', 'particle_position_relative_z'),\n",
       " ('io', 'particle_position_spherical_phi'),\n",
       " ('io', 'particle_position_spherical_radius'),\n",
       " ('io', 'particle_position_spherical_theta'),\n",
       " ('io', 'particle_position_x'),\n",
       " ('io', 'particle_position_y'),\n",
       " ('io', 'particle_position_z'),\n",
       " ('io', 'particle_radial_velocity'),\n",
       " ('io', 'particle_radius'),\n",
       " ('io', 'particle_refinement_level'),\n",
       " ('io', 'particle_specific_angular_momentum'),\n",
       " ('io', 'particle_specific_angular_momentum_x'),\n",
       " ('io', 'particle_specific_angular_momentum_y'),\n",
       " ('io', 'particle_specific_angular_momentum_z'),\n",
       " ('io', 'particle_spherical_position_phi'),\n",
       " ('io', 'particle_spherical_position_radius'),\n",
       " ('io', 'particle_spherical_position_theta'),\n",
       " ('io', 'particle_spherical_velocity_phi'),\n",
       " ('io', 'particle_spherical_velocity_radius'),\n",
       " ('io', 'particle_spherical_velocity_theta'),\n",
       " ('io', 'particle_velocity'),\n",
       " ('io', 'particle_velocity_cylindrical_radius'),\n",
       " ('io', 'particle_velocity_cylindrical_theta'),\n",
       " ('io', 'particle_velocity_cylindrical_z'),\n",
       " ('io', 'particle_velocity_magnitude'),\n",
       " ('io', 'particle_velocity_relative'),\n",
       " ('io', 'particle_velocity_relative_x'),\n",
       " ('io', 'particle_velocity_relative_y'),\n",
       " ('io', 'particle_velocity_relative_z'),\n",
       " ('io', 'particle_velocity_spherical_phi'),\n",
       " ('io', 'particle_velocity_spherical_radius'),\n",
       " ('io', 'particle_velocity_spherical_theta'),\n",
       " ('io', 'particle_velocity_x'),\n",
       " ('io', 'particle_velocity_y'),\n",
       " ('io', 'particle_velocity_z'),\n",
       " ('ramses', 'cell_volume'),\n",
       " ('ramses', 'dx'),\n",
       " ('ramses', 'dy'),\n",
       " ('ramses', 'dz'),\n",
       " ('ramses', 'path_element_x'),\n",
       " ('ramses', 'path_element_y'),\n",
       " ('ramses', 'path_element_z'),\n",
       " ('ramses', 'vertex_x'),\n",
       " ('ramses', 'vertex_y'),\n",
       " ('ramses', 'vertex_z'),\n",
       " ('ramses', 'x'),\n",
       " ('ramses', 'y'),\n",
       " ('ramses', 'z')]"
      ]
     },
     "execution_count": 46,
     "metadata": {},
     "output_type": "execute_result"
    }
   ],
   "source": [
    "ds.haloved_field_list"
   ]
  },
  {
   "cell_type": "code",
   "execution_count": null,
   "metadata": {
    "collapsed": true
   },
   "outputs": [],
   "source": []
  }
 ],
 "metadata": {
  "anaconda-cloud": {},
  "kernelspec": {
   "display_name": "Python [conda root]",
   "language": "python",
   "name": "conda-root-py"
  },
  "language_info": {
   "codemirror_mode": {
    "name": "ipython",
    "version": 3
   },
   "file_extension": ".py",
   "mimetype": "text/x-python",
   "name": "python",
   "nbconvert_exporter": "python",
   "pygments_lexer": "ipython3",
   "version": "3.6.2"
  },
  "toc": {
   "nav_menu": {},
   "number_sections": true,
   "sideBar": true,
   "skip_h1_title": false,
   "toc_cell": true,
   "toc_position": {},
   "toc_section_display": "block",
   "toc_window_display": true
  },
  "varInspector": {
   "cols": {
    "lenName": 16,
    "lenType": 16,
    "lenVar": 40
   },
   "kernels_config": {
    "python": {
     "delete_cmd_postfix": "",
     "delete_cmd_prefix": "del ",
     "library": "var_list.py",
     "varRefreshCmd": "print(var_dic_list())"
    },
    "r": {
     "delete_cmd_postfix": ") ",
     "delete_cmd_prefix": "rm(",
     "library": "var_list.r",
     "varRefreshCmd": "cat(var_dic_list()) "
    }
   },
   "types_to_exclude": [
    "module",
    "function",
    "builtin_function_or_method",
    "instance",
    "_Feature"
   ],
   "window_display": false
  }
 },
 "nbformat": 4,
 "nbformat_minor": 2
}
